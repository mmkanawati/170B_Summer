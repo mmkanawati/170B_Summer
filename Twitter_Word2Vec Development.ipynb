{
 "cells": [
  {
   "cell_type": "code",
   "execution_count": 1,
   "metadata": {},
   "outputs": [],
   "source": [
    "import gensim\n",
    "import pandas as pd\n",
    "import os"
   ]
  },
  {
   "cell_type": "markdown",
   "metadata": {},
   "source": [
    "# Setup"
   ]
  },
  {
   "cell_type": "markdown",
   "metadata": {},
   "source": [
    "This has been already cleaned in Twitter Labeling file"
   ]
  },
  {
   "cell_type": "code",
   "execution_count": 2,
   "metadata": {},
   "outputs": [],
   "source": [
    "df = pd.read_csv('data/word2Vec.csv', index_col=[0])"
   ]
  },
  {
   "cell_type": "code",
   "execution_count": 3,
   "metadata": {},
   "outputs": [
    {
     "data": {
      "text/html": [
       "<div>\n",
       "<style scoped>\n",
       "    .dataframe tbody tr th:only-of-type {\n",
       "        vertical-align: middle;\n",
       "    }\n",
       "\n",
       "    .dataframe tbody tr th {\n",
       "        vertical-align: top;\n",
       "    }\n",
       "\n",
       "    .dataframe thead th {\n",
       "        text-align: right;\n",
       "    }\n",
       "</style>\n",
       "<table border=\"1\" class=\"dataframe\">\n",
       "  <thead>\n",
       "    <tr style=\"text-align: right;\">\n",
       "      <th></th>\n",
       "      <th>id</th>\n",
       "      <th>text</th>\n",
       "    </tr>\n",
       "  </thead>\n",
       "  <tbody>\n",
       "    <tr>\n",
       "      <th>0</th>\n",
       "      <td>1413639045268217856</td>\n",
       "      <td>@KegsnEggs Wheres league of legends?</td>\n",
       "    </tr>\n",
       "    <tr>\n",
       "      <th>1</th>\n",
       "      <td>1414479504945270784</td>\n",
       "      <td>Watched the #LCS games with @CaptainFlowers to...</td>\n",
       "    </tr>\n",
       "    <tr>\n",
       "      <th>2</th>\n",
       "      <td>1412812522873233413</td>\n",
       "      <td>Wait why the new league of legends character s...</td>\n",
       "    </tr>\n",
       "    <tr>\n",
       "      <th>3</th>\n",
       "      <td>1414155902718988289</td>\n",
       "      <td>Starcraft I and II (2 games?)\\nWarcraft III\\nC...</td>\n",
       "    </tr>\n",
       "    <tr>\n",
       "      <th>4</th>\n",
       "      <td>1412275542280257536</td>\n",
       "      <td>Just called a sweaty neckbeard in league of le...</td>\n",
       "    </tr>\n",
       "    <tr>\n",
       "      <th>...</th>\n",
       "      <td>...</td>\n",
       "      <td>...</td>\n",
       "    </tr>\n",
       "    <tr>\n",
       "      <th>324829</th>\n",
       "      <td>1500316004370558979</td>\n",
       "      <td>Miss Fortune Highlights\\n#LoL #wildrift #missf...</td>\n",
       "    </tr>\n",
       "    <tr>\n",
       "      <th>324830</th>\n",
       "      <td>1503948740775882753</td>\n",
       "      <td>eres muy joven\u001d",
       "\\nMISS FORTUNE ES LA COMEDY QU...</td>\n",
       "    </tr>\n",
       "    <tr>\n",
       "      <th>324831</th>\n",
       "      <td>1504077934646157323</td>\n",
       "      <td>@hammyinmiami I\u0019m still looking for someone to...</td>\n",
       "    </tr>\n",
       "    <tr>\n",
       "      <th>324832</th>\n",
       "      <td>1507454234249158657</td>\n",
       "      <td>After spending more than 30 mins on hold waiti...</td>\n",
       "    </tr>\n",
       "    <tr>\n",
       "      <th>324833</th>\n",
       "      <td>1508205418438397961</td>\n",
       "      <td>@WASenDemocrats @GovInslee Since roughly 80% o...</td>\n",
       "    </tr>\n",
       "  </tbody>\n",
       "</table>\n",
       "<p>324824 rows × 2 columns</p>\n",
       "</div>"
      ],
      "text/plain": [
       "                         id                                               text\n",
       "0       1413639045268217856               @KegsnEggs Wheres league of legends?\n",
       "1       1414479504945270784  Watched the #LCS games with @CaptainFlowers to...\n",
       "2       1412812522873233413  Wait why the new league of legends character s...\n",
       "3       1414155902718988289  Starcraft I and II (2 games?)\\nWarcraft III\\nC...\n",
       "4       1412275542280257536  Just called a sweaty neckbeard in league of le...\n",
       "...                     ...                                                ...\n",
       "324829  1500316004370558979  Miss Fortune Highlights\\n#LoL #wildrift #missf...\n",
       "324830  1503948740775882753  \n",
       "eres muy joven\n",
       "\\nMISS FORTUNE ES LA COMEDY QU...\n",
       "324831  1504077934646157323  @hammyinmiami I\u0019m still looking for someone to...\n",
       "324832  1507454234249158657  After spending more than 30 mins on hold waiti...\n",
       "324833  1508205418438397961  @WASenDemocrats @GovInslee Since roughly 80% o...\n",
       "\n",
       "[324824 rows x 2 columns]"
      ]
     },
     "execution_count": 3,
     "metadata": {},
     "output_type": "execute_result"
    }
   ],
   "source": [
    "df"
   ]
  },
  {
   "cell_type": "code",
   "execution_count": 4,
   "metadata": {},
   "outputs": [
    {
     "data": {
      "text/plain": [
       "(324824, 2)"
      ]
     },
     "execution_count": 4,
     "metadata": {},
     "output_type": "execute_result"
    }
   ],
   "source": [
    "df.shape"
   ]
  },
  {
   "cell_type": "markdown",
   "metadata": {},
   "source": [
    "# Preprocessing"
   ]
  },
  {
   "cell_type": "code",
   "execution_count": 5,
   "metadata": {},
   "outputs": [],
   "source": [
    "first_comment = df.text[0]"
   ]
  },
  {
   "cell_type": "code",
   "execution_count": 6,
   "metadata": {},
   "outputs": [
    {
     "data": {
      "text/plain": [
       "['kegsneggs', 'wheres', 'league', 'of', 'legends']"
      ]
     },
     "execution_count": 6,
     "metadata": {},
     "output_type": "execute_result"
    }
   ],
   "source": [
    "gensim.utils.simple_preprocess(first_comment)"
   ]
  },
  {
   "cell_type": "code",
   "execution_count": 7,
   "metadata": {},
   "outputs": [],
   "source": [
    "text_1 = df.text.apply(gensim.utils.simple_preprocess)"
   ]
  },
  {
   "cell_type": "code",
   "execution_count": 8,
   "metadata": {},
   "outputs": [
    {
     "data": {
      "text/plain": [
       "0                  [kegsneggs, wheres, league, of, legends]\n",
       "1         [watched, the, lcs, games, with, captainflower...\n",
       "2         [wait, why, the, new, league, of, legends, cha...\n",
       "3         [starcraft, and, ii, games, warcraft, iii, cs,...\n",
       "4         [just, called, sweaty, neckbeard, in, league, ...\n",
       "                                ...                        \n",
       "324829    [miss, fortune, highlights, lol, wildrift, mis...\n",
       "324830    [eres, muy, joven, miss, fortune, es, la, come...\n",
       "324831    [hammyinmiami, still, looking, for, someone, t...\n",
       "324832    [after, spending, more, than, mins, on, hold, ...\n",
       "324833    [wasendemocrats, govinslee, since, roughly, of...\n",
       "Name: text, Length: 324824, dtype: object"
      ]
     },
     "execution_count": 8,
     "metadata": {},
     "output_type": "execute_result"
    }
   ],
   "source": [
    "text_1"
   ]
  },
  {
   "cell_type": "markdown",
   "metadata": {},
   "source": [
    "## Building the Word2Vec Model"
   ]
  },
  {
   "cell_type": "code",
   "execution_count": 9,
   "metadata": {},
   "outputs": [],
   "source": [
    "model = gensim.models.Word2Vec(\n",
    "    window=10,\n",
    "    min_count=2,\n",
    "    workers=4\n",
    ")"
   ]
  },
  {
   "cell_type": "code",
   "execution_count": 10,
   "metadata": {},
   "outputs": [],
   "source": [
    "model.build_vocab(text_1, progress_per=1000)"
   ]
  },
  {
   "cell_type": "code",
   "execution_count": 11,
   "metadata": {},
   "outputs": [
    {
     "data": {
      "text/plain": [
       "5"
      ]
     },
     "execution_count": 11,
     "metadata": {},
     "output_type": "execute_result"
    }
   ],
   "source": [
    "model.epochs"
   ]
  },
  {
   "cell_type": "code",
   "execution_count": 12,
   "metadata": {},
   "outputs": [
    {
     "data": {
      "text/plain": [
       "324824"
      ]
     },
     "execution_count": 12,
     "metadata": {},
     "output_type": "execute_result"
    }
   ],
   "source": [
    "model.corpus_count"
   ]
  },
  {
   "cell_type": "code",
   "execution_count": 13,
   "metadata": {},
   "outputs": [
    {
     "data": {
      "text/plain": [
       "(27998931, 35037095)"
      ]
     },
     "execution_count": 13,
     "metadata": {},
     "output_type": "execute_result"
    }
   ],
   "source": [
    "model.train(text_1, total_examples=model.corpus_count, epochs=model.epochs)"
   ]
  },
  {
   "cell_type": "code",
   "execution_count": 14,
   "metadata": {},
   "outputs": [],
   "source": [
    "model.save(\"./word2vec-minibatch-1.model\")"
   ]
  },
  {
   "cell_type": "markdown",
   "metadata": {},
   "source": [
    "Some examples of how the model featurized"
   ]
  },
  {
   "cell_type": "code",
   "execution_count": 15,
   "metadata": {},
   "outputs": [
    {
     "data": {
      "text/plain": [
       "[('bad', 0.74284428358078),\n",
       " ('nice', 0.6426088809967041),\n",
       " ('great', 0.6002240180969238),\n",
       " ('solid', 0.56125408411026),\n",
       " ('decent', 0.5552210807800293),\n",
       " ('tough', 0.5442237257957458),\n",
       " ('big', 0.5399317741394043),\n",
       " ('perfect', 0.5386345982551575),\n",
       " ('hard', 0.5375456213951111),\n",
       " ('cool', 0.5362781882286072)]"
      ]
     },
     "execution_count": 15,
     "metadata": {},
     "output_type": "execute_result"
    }
   ],
   "source": [
    "model.wv.most_similar(\"good\")"
   ]
  },
  {
   "cell_type": "code",
   "execution_count": 16,
   "metadata": {},
   "outputs": [
    {
     "data": {
      "text/plain": [
       "-0.029038727"
      ]
     },
     "execution_count": 16,
     "metadata": {},
     "output_type": "execute_result"
    }
   ],
   "source": [
    "model.wv.similarity(w1=\"ahri\", w2=\"good\")"
   ]
  },
  {
   "cell_type": "code",
   "execution_count": 17,
   "metadata": {},
   "outputs": [
    {
     "data": {
      "text/plain": [
       "0.600224"
      ]
     },
     "execution_count": 17,
     "metadata": {},
     "output_type": "execute_result"
    }
   ],
   "source": [
    "model.wv.similarity(w1=\"great\", w2=\"good\")"
   ]
  },
  {
   "cell_type": "code",
   "execution_count": 18,
   "metadata": {},
   "outputs": [
    {
     "data": {
      "text/plain": [
       "0.2161384"
      ]
     },
     "execution_count": 18,
     "metadata": {},
     "output_type": "execute_result"
    }
   ],
   "source": [
    "model.wv.similarity(w1=\"terrible\", w2=\"awesome\")"
   ]
  },
  {
   "cell_type": "code",
   "execution_count": 19,
   "metadata": {},
   "outputs": [
    {
     "data": {
      "text/plain": [
       "-0.039012413"
      ]
     },
     "execution_count": 19,
     "metadata": {},
     "output_type": "execute_result"
    }
   ],
   "source": [
    "model.wv.similarity(w1=\"badass\", w2=\"jinx\")"
   ]
  },
  {
   "cell_type": "code",
   "execution_count": 20,
   "metadata": {},
   "outputs": [
    {
     "data": {
      "text/plain": [
       "0.2915474"
      ]
     },
     "execution_count": 20,
     "metadata": {},
     "output_type": "execute_result"
    }
   ],
   "source": [
    "model.wv.similarity(w1=\"badass\", w2=\"teemo\")"
   ]
  },
  {
   "cell_type": "markdown",
   "metadata": {},
   "source": [
    "Casting the data to two dimensions for visualization purposes using t-SNE."
   ]
  },
  {
   "cell_type": "code",
   "execution_count": 21,
   "metadata": {},
   "outputs": [],
   "source": [
    "vocab = list(model.wv.key_to_index)\n",
    "X = model.wv[vocab]"
   ]
  },
  {
   "cell_type": "code",
   "execution_count": 22,
   "metadata": {},
   "outputs": [],
   "source": [
    "from sklearn.manifold import TSNE"
   ]
  },
  {
   "cell_type": "code",
   "execution_count": 23,
   "metadata": {},
   "outputs": [],
   "source": [
    "tsne = TSNE(n_components=2)\n",
    "X_tsne = tsne.fit_transform(X)"
   ]
  },
  {
   "cell_type": "code",
   "execution_count": 24,
   "metadata": {},
   "outputs": [],
   "source": [
    "df = pd.DataFrame(X_tsne, index=vocab, columns=['x','y'])"
   ]
  },
  {
   "cell_type": "code",
   "execution_count": 25,
   "metadata": {},
   "outputs": [
    {
     "data": {
      "text/plain": [
       "x    -9.489840\n",
       "y   -14.312733\n",
       "Name: the, dtype: float32"
      ]
     },
     "execution_count": 25,
     "metadata": {},
     "output_type": "execute_result"
    }
   ],
   "source": [
    "df.loc['the']"
   ]
  },
  {
   "cell_type": "code",
   "execution_count": 26,
   "metadata": {},
   "outputs": [
    {
     "data": {
      "text/plain": [
       "x    -9.489840\n",
       "y   -14.312733\n",
       "Name: the, dtype: float32"
      ]
     },
     "execution_count": 26,
     "metadata": {},
     "output_type": "execute_result"
    }
   ],
   "source": [
    "df.iloc[0]"
   ]
  },
  {
   "cell_type": "code",
   "execution_count": 27,
   "metadata": {},
   "outputs": [
    {
     "data": {
      "text/html": [
       "<div>\n",
       "<style scoped>\n",
       "    .dataframe tbody tr th:only-of-type {\n",
       "        vertical-align: middle;\n",
       "    }\n",
       "\n",
       "    .dataframe tbody tr th {\n",
       "        vertical-align: top;\n",
       "    }\n",
       "\n",
       "    .dataframe thead th {\n",
       "        text-align: right;\n",
       "    }\n",
       "</style>\n",
       "<table border=\"1\" class=\"dataframe\">\n",
       "  <thead>\n",
       "    <tr style=\"text-align: right;\">\n",
       "      <th></th>\n",
       "      <th>x</th>\n",
       "      <th>y</th>\n",
       "    </tr>\n",
       "  </thead>\n",
       "  <tbody>\n",
       "    <tr>\n",
       "      <th>the</th>\n",
       "      <td>-9.489840</td>\n",
       "      <td>-14.312733</td>\n",
       "    </tr>\n",
       "    <tr>\n",
       "      <th>co</th>\n",
       "      <td>-20.403469</td>\n",
       "      <td>-25.650131</td>\n",
       "    </tr>\n",
       "    <tr>\n",
       "      <th>https</th>\n",
       "      <td>-15.688904</td>\n",
       "      <td>-18.320686</td>\n",
       "    </tr>\n",
       "    <tr>\n",
       "      <th>to</th>\n",
       "      <td>-9.423092</td>\n",
       "      <td>-14.415783</td>\n",
       "    </tr>\n",
       "    <tr>\n",
       "      <th>and</th>\n",
       "      <td>-9.426958</td>\n",
       "      <td>-14.401794</td>\n",
       "    </tr>\n",
       "    <tr>\n",
       "      <th>...</th>\n",
       "      <td>...</td>\n",
       "      <td>...</td>\n",
       "    </tr>\n",
       "    <tr>\n",
       "      <th>combest</th>\n",
       "      <td>-2.288065</td>\n",
       "      <td>18.340771</td>\n",
       "    </tr>\n",
       "    <tr>\n",
       "      <th>loony</th>\n",
       "      <td>18.712713</td>\n",
       "      <td>-2.324171</td>\n",
       "    </tr>\n",
       "    <tr>\n",
       "      <th>highimkat_</th>\n",
       "      <td>24.329321</td>\n",
       "      <td>-2.199702</td>\n",
       "    </tr>\n",
       "    <tr>\n",
       "      <th>observador</th>\n",
       "      <td>14.128035</td>\n",
       "      <td>9.094001</td>\n",
       "    </tr>\n",
       "    <tr>\n",
       "      <th>mmtchl</th>\n",
       "      <td>3.802379</td>\n",
       "      <td>5.933661</td>\n",
       "    </tr>\n",
       "  </tbody>\n",
       "</table>\n",
       "<p>132321 rows × 2 columns</p>\n",
       "</div>"
      ],
      "text/plain": [
       "                    x          y\n",
       "the         -9.489840 -14.312733\n",
       "co         -20.403469 -25.650131\n",
       "https      -15.688904 -18.320686\n",
       "to          -9.423092 -14.415783\n",
       "and         -9.426958 -14.401794\n",
       "...               ...        ...\n",
       "combest     -2.288065  18.340771\n",
       "loony       18.712713  -2.324171\n",
       "highimkat_  24.329321  -2.199702\n",
       "observador  14.128035   9.094001\n",
       "mmtchl       3.802379   5.933661\n",
       "\n",
       "[132321 rows x 2 columns]"
      ]
     },
     "execution_count": 27,
     "metadata": {},
     "output_type": "execute_result"
    }
   ],
   "source": [
    "df"
   ]
  },
  {
   "cell_type": "code",
   "execution_count": 28,
   "metadata": {},
   "outputs": [],
   "source": [
    "import matplotlib.pyplot as plt"
   ]
  },
  {
   "cell_type": "code",
   "execution_count": 29,
   "metadata": {},
   "outputs": [
    {
     "name": "stdout",
     "output_type": "stream",
     "text": [
      "bad \t [-8.084166, -12.918226]\n",
      "nice \t [-8.131414, -13.405798]\n",
      "great \t [-13.908269, -14.668132]\n",
      "solid \t [-9.9016285, -14.037488]\n",
      "decent \t [-9.535183, -13.705651]\n",
      "tough \t [-8.696651, -13.513573]\n",
      "big \t [-10.170529, -14.063974]\n",
      "perfect \t [-13.84029, -14.300993]\n",
      "hard \t [-8.356261, -12.809584]\n",
      "cool \t [-8.100332, -13.434047]\n"
     ]
    }
   ],
   "source": [
    "for i in model.wv.most_similar(\"good\"):\n",
    "    print(i[0], \"\\t\", [df.loc[i[0]][\"x\"], df.loc[i[0]][\"y\"]])"
   ]
  },
  {
   "cell_type": "markdown",
   "metadata": {},
   "source": [
    "## Plotting"
   ]
  },
  {
   "cell_type": "code",
   "execution_count": 30,
   "metadata": {},
   "outputs": [],
   "source": [
    "# BAD\n",
    "words_similar_to_bad = model.wv.most_similar(\"bad\")\n",
    "\n",
    "bad_list = list()\n",
    "\n",
    "for i in words_similar_to_bad:\n",
    "    bad_list.append(i[0])\n",
    "\n",
    "# GOOD\n",
    "words_similar_to_good = model.wv.most_similar(\"good\")\n",
    "\n",
    "good_list = list()\n",
    "\n",
    "for i in words_similar_to_good:\n",
    "    good_list.append(i[0])\n",
    "    \n",
    "# BADASS\n",
    "words_similar_to_badass = model.wv.most_similar(\"badass\")\n",
    "\n",
    "badass_list = list()\n",
    "\n",
    "for i in words_similar_to_badass:\n",
    "    badass_list.append(i[0])\n",
    "    \n",
    "# DIFFICULT\n",
    "words_similar_to_difficult = model.wv.most_similar(\"difficult\")\n",
    "\n",
    "difficult_list = list()\n",
    "\n",
    "for i in words_similar_to_difficult:\n",
    "    difficult_list.append(i[0])\n",
    "    \n",
    "# THE\n",
    "words_similar_to_the = model.wv.most_similar(\"the\")\n",
    "\n",
    "the_list = list()\n",
    "\n",
    "for i in words_similar_to_the:\n",
    "    the_list.append(i[0])\n",
    "    \n",
    "# WORSHIPPED\n",
    "words_similar_to_worshipped = model.wv.most_similar(\"worshipped\")\n",
    "\n",
    "worshipped_list = list()\n",
    "\n",
    "for i in words_similar_to_worshipped:\n",
    "    worshipped_list.append(i[0])"
   ]
  },
  {
   "cell_type": "code",
   "execution_count": 31,
   "metadata": {},
   "outputs": [
    {
     "data": {
      "image/png": "[encoded data removed]",
      "text/plain": [
       "<Figure size 720x720 with 1 Axes>"
      ]
     },
     "metadata": {
      "needs_background": "light"
     },
     "output_type": "display_data"
    }
   ],
   "source": [
    "fig, ax = plt.subplots(figsize=(10,10))\n",
    "#ax = fig.add_subplot(1,1,1)\n",
    "\n",
    "ax.scatter(df['x'], df['y'])\n",
    "\n",
    "def plot_annotate(w,p,c):\n",
    "    ax.annotate(w, p, color = c, fontweight='bold', fontsize='x-large')\n",
    "\n",
    "for word, pos in df.iterrows():\n",
    "    if word in bad_list:\n",
    "        plot_annotate(word,pos,'orange')\n",
    "    if word in good_list:\n",
    "        plot_annotate(word,pos,'lawngreen')\n",
    "    if word in badass_list:\n",
    "        plot_annotate(word,pos,'magenta')\n",
    "    if word in difficult_list:\n",
    "        plot_annotate(word,pos,'gold')\n",
    "    if word in the_list:\n",
    "        plot_annotate(word, pos, 'cyan')\n",
    "    if word in worshipped_list:\n",
    "        plot_annotate(word, pos, 'hotpink')\n"
   ]
  },
  {
   "cell_type": "code",
   "execution_count": 32,
   "metadata": {},
   "outputs": [
    {
     "data": {
      "text/plain": [
       "<Figure size 432x288 with 0 Axes>"
      ]
     },
     "metadata": {},
     "output_type": "display_data"
    }
   ],
   "source": [
    "plt.savefig('./window_10.png')"
   ]
  },
  {
   "cell_type": "markdown",
   "metadata": {},
   "source": [
    "## Creating a new model"
   ]
  },
  {
   "cell_type": "code",
   "execution_count": 33,
   "metadata": {},
   "outputs": [],
   "source": [
    "model_2 = gensim.models.Word2Vec(\n",
    "    window=5,\n",
    "    min_count=2,\n",
    "    workers=4\n",
    ")\n",
    "\n",
    "model_2.build_vocab(text_1, progress_per=1000)\n",
    "\n",
    "model_2.train(text_1, total_examples=model_2.corpus_count, epochs=model_2.epochs)\n",
    "\n",
    "model_2.save(\"./word2vec-minibatch-1-model-2.model\")\n",
    "\n",
    "vocab_2 = list(model_2.wv.key_to_index)\n",
    "X_2 = model_2.wv[vocab_2]\n",
    "\n",
    "tsne_2 = TSNE(n_components=2)\n",
    "X_tsne_2 = tsne_2.fit_transform(X_2)\n",
    "\n",
    "df_2 = pd.DataFrame(X_tsne_2, index=vocab_2, columns=['x','y'])"
   ]
  },
  {
   "cell_type": "code",
   "execution_count": 34,
   "metadata": {},
   "outputs": [],
   "source": [
    "# BAD\n",
    "words_similar_to_bad = model_2.wv.most_similar(\"bad\")\n",
    "\n",
    "bad_list = list()\n",
    "\n",
    "for i in words_similar_to_bad:\n",
    "    bad_list.append(i[0])\n",
    "\n",
    "# GOOD\n",
    "words_similar_to_good = model_2.wv.most_similar(\"good\")\n",
    "\n",
    "good_list = list()\n",
    "\n",
    "for i in words_similar_to_good:\n",
    "    good_list.append(i[0])\n",
    "    \n",
    "# BADASS\n",
    "words_similar_to_badass = model_2.wv.most_similar(\"badass\")\n",
    "\n",
    "badass_list = list()\n",
    "\n",
    "for i in words_similar_to_badass:\n",
    "    badass_list.append(i[0])\n",
    "    \n",
    "# DIFFICULT\n",
    "words_similar_to_difficult = model_2.wv.most_similar(\"difficult\")\n",
    "\n",
    "difficult_list = list()\n",
    "\n",
    "for i in words_similar_to_difficult:\n",
    "    difficult_list.append(i[0])\n",
    "    \n",
    "# THE\n",
    "words_similar_to_the = model_2.wv.most_similar(\"the\")\n",
    "\n",
    "the_list = list()\n",
    "\n",
    "for i in words_similar_to_the:\n",
    "    the_list.append(i[0])\n",
    "    \n",
    "# WORSHIPPED\n",
    "words_similar_to_worshipped = model_2.wv.most_similar(\"worshipped\")\n",
    "\n",
    "worshipped_list = list()\n",
    "\n",
    "for i in words_similar_to_worshipped:\n",
    "    worshipped_list.append(i[0])"
   ]
  },
  {
   "cell_type": "code",
   "execution_count": 35,
   "metadata": {},
   "outputs": [
    {
     "data": {
      "image/png": "[encoded data removed]",
      "text/plain": [
       "<Figure size 720x720 with 1 Axes>"
      ]
     },
     "metadata": {
      "needs_background": "light"
     },
     "output_type": "display_data"
    }
   ],
   "source": [
    "fig, ax = plt.subplots(figsize=(10,10))\n",
    "#ax = fig.add_subplot(1,1,1)\n",
    "\n",
    "ax.scatter(df_2['x'], df_2['y'])\n",
    "\n",
    "def plot_annotate(w,p,c):\n",
    "    ax.annotate(w, p, color = c, fontweight='bold', fontsize='x-large')\n",
    "\n",
    "for word, pos in df.iterrows():\n",
    "    if word in bad_list:\n",
    "        plot_annotate(word,pos,'orange')\n",
    "    if word in good_list:\n",
    "        plot_annotate(word,pos,'lawngreen')\n",
    "    if word in badass_list:\n",
    "        plot_annotate(word,pos,'magenta')\n",
    "    if word in difficult_list:\n",
    "        plot_annotate(word,pos,'gold')\n",
    "    if word in the_list:\n",
    "        plot_annotate(word, pos, 'cyan')\n",
    "    if word in worshipped_list:\n",
    "        plot_annotate(word, pos, 'hotpink')\n"
   ]
  },
  {
   "cell_type": "code",
   "execution_count": 36,
   "metadata": {},
   "outputs": [
    {
     "data": {
      "text/plain": [
       "<Figure size 432x288 with 0 Axes>"
      ]
     },
     "metadata": {},
     "output_type": "display_data"
    }
   ],
   "source": [
    "plt.savefig('./window_5.png')"
   ]
  },
  {
   "cell_type": "code",
   "execution_count": 37,
   "metadata": {},
   "outputs": [],
   "source": [
    "model_3 = gensim.models.Word2Vec(\n",
    "    window=4,\n",
    "    min_count=2,\n",
    "    workers=4\n",
    ")\n",
    "\n",
    "model_3.build_vocab(text_1, progress_per=1000)\n",
    "\n",
    "model_3.train(text_1, \n",
    "              total_examples=model_3.corpus_count, \n",
    "              epochs=model_3.epochs)\n",
    "\n",
    "model_3.save(\"./word2vec-minibatch-1-model-3.model\")\n",
    "\n",
    "vocab_3 = list(model_3.wv.key_to_index)\n",
    "X_3 = model_3.wv[vocab_3]\n",
    "\n",
    "tsne_3 = TSNE(n_components=2)\n",
    "X_tsne_3 = tsne_3.fit_transform(X_3)\n",
    "\n",
    "df_3 = pd.DataFrame(X_tsne_3, index=vocab_3, columns=['x','y'])"
   ]
  },
  {
   "cell_type": "code",
   "execution_count": 38,
   "metadata": {},
   "outputs": [],
   "source": [
    "# BAD\n",
    "words_similar_to_bad = model_3.wv.most_similar(\"bad\")\n",
    "\n",
    "bad_list = list()\n",
    "\n",
    "for i in words_similar_to_bad:\n",
    "    bad_list.append(i[0])\n",
    "\n",
    "# GOOD\n",
    "words_similar_to_good = model_3.wv.most_similar(\"good\")\n",
    "\n",
    "good_list = list()\n",
    "\n",
    "for i in words_similar_to_good:\n",
    "    good_list.append(i[0])\n",
    "    \n",
    "# BADASS\n",
    "words_similar_to_badass = model_3.wv.most_similar(\"badass\")\n",
    "\n",
    "badass_list = list()\n",
    "\n",
    "for i in words_similar_to_badass:\n",
    "    badass_list.append(i[0])\n",
    "    \n",
    "# DIFFICULT\n",
    "words_similar_to_difficult = model_2.wv.most_similar(\"difficult\")\n",
    "\n",
    "difficult_list = list()\n",
    "\n",
    "for i in words_similar_to_difficult:\n",
    "    difficult_list.append(i[0])\n",
    "    \n",
    "# THE\n",
    "words_similar_to_the = model_3.wv.most_similar(\"the\")\n",
    "\n",
    "the_list = list()\n",
    "\n",
    "for i in words_similar_to_the:\n",
    "    the_list.append(i[0])\n",
    "    \n",
    "# WORSHIPPED\n",
    "words_similar_to_worshipped = model_3.wv.most_similar(\"worshipped\")\n",
    "\n",
    "worshipped_list = list()\n",
    "\n",
    "for i in words_similar_to_worshipped:\n",
    "    worshipped_list.append(i[0])"
   ]
  },
  {
   "cell_type": "code",
   "execution_count": 39,
   "metadata": {},
   "outputs": [
    {
     "data": {
      "image/png": "[encoded data removed]",
      "text/plain": [
       "<Figure size 720x720 with 1 Axes>"
      ]
     },
     "metadata": {
      "needs_background": "light"
     },
     "output_type": "display_data"
    }
   ],
   "source": [
    "fig, ax = plt.subplots(figsize=(10,10))\n",
    "#ax = fig.add_subplot(1,1,1)\n",
    "\n",
    "ax.scatter(df_3['x'], df_3['y'])\n",
    "\n",
    "def plot_annotate(w,p,c):\n",
    "    ax.annotate(w, p, color = c, fontweight='bold', fontsize='x-large')\n",
    "\n",
    "for word, pos in df.iterrows():\n",
    "    if word in bad_list:\n",
    "        plot_annotate(word,pos,'orange')\n",
    "    if word in good_list:\n",
    "        plot_annotate(word,pos,'lawngreen')\n",
    "    if word in badass_list:\n",
    "        plot_annotate(word,pos,'magenta')\n",
    "    if word in difficult_list:\n",
    "        plot_annotate(word,pos,'gold')\n",
    "    if word in the_list:\n",
    "        plot_annotate(word, pos, 'cyan')\n",
    "    if word in worshipped_list:\n",
    "        plot_annotate(word, pos, 'hotpink')\n"
   ]
  },
  {
   "cell_type": "code",
   "execution_count": 40,
   "metadata": {},
   "outputs": [
    {
     "data": {
      "text/plain": [
       "<Figure size 432x288 with 0 Axes>"
      ]
     },
     "metadata": {},
     "output_type": "display_data"
    }
   ],
   "source": [
    "plt.savefig('./window_4.png')"
   ]
  },
  {
   "cell_type": "markdown",
   "metadata": {},
   "source": [
    "### Text preprocessing"
   ]
  },
  {
   "cell_type": "code",
   "execution_count": 42,
   "metadata": {},
   "outputs": [],
   "source": [
    "import numpy as np\n",
    "import matplotlib as mpl\n",
    "import matplotlib.pyplot as plt\n",
    "\n",
    "from sklearn.preprocessing import scale\n",
    "from sklearn.decomposition import PCA\n",
    "from sklearn.cluster import KMeans\n",
    "\n",
    "%matplotlib inline"
   ]
  },
  {
   "cell_type": "code",
   "execution_count": 45,
   "metadata": {},
   "outputs": [
    {
     "data": {
      "text/html": [
       "<div>\n",
       "<style scoped>\n",
       "    .dataframe tbody tr th:only-of-type {\n",
       "        vertical-align: middle;\n",
       "    }\n",
       "\n",
       "    .dataframe tbody tr th {\n",
       "        vertical-align: top;\n",
       "    }\n",
       "\n",
       "    .dataframe thead th {\n",
       "        text-align: right;\n",
       "    }\n",
       "</style>\n",
       "<table border=\"1\" class=\"dataframe\">\n",
       "  <thead>\n",
       "    <tr style=\"text-align: right;\">\n",
       "      <th></th>\n",
       "      <th>id</th>\n",
       "      <th>text</th>\n",
       "    </tr>\n",
       "  </thead>\n",
       "  <tbody>\n",
       "    <tr>\n",
       "      <th>0</th>\n",
       "      <td>1413639045268217856</td>\n",
       "      <td>@KegsnEggs Wheres league of legends?</td>\n",
       "    </tr>\n",
       "    <tr>\n",
       "      <th>1</th>\n",
       "      <td>1414479504945270784</td>\n",
       "      <td>Watched the #LCS games with @CaptainFlowers to...</td>\n",
       "    </tr>\n",
       "    <tr>\n",
       "      <th>2</th>\n",
       "      <td>1412812522873233413</td>\n",
       "      <td>Wait why the new league of legends character s...</td>\n",
       "    </tr>\n",
       "    <tr>\n",
       "      <th>3</th>\n",
       "      <td>1414155902718988289</td>\n",
       "      <td>Starcraft I and II (2 games?)\\nWarcraft III\\nC...</td>\n",
       "    </tr>\n",
       "    <tr>\n",
       "      <th>4</th>\n",
       "      <td>1412275542280257536</td>\n",
       "      <td>Just called a sweaty neckbeard in league of le...</td>\n",
       "    </tr>\n",
       "    <tr>\n",
       "      <th>...</th>\n",
       "      <td>...</td>\n",
       "      <td>...</td>\n",
       "    </tr>\n",
       "    <tr>\n",
       "      <th>324829</th>\n",
       "      <td>1500316004370558979</td>\n",
       "      <td>Miss Fortune Highlights\\n#LoL #wildrift #missf...</td>\n",
       "    </tr>\n",
       "    <tr>\n",
       "      <th>324830</th>\n",
       "      <td>1503948740775882753</td>\n",
       "      <td>eres muy joven\u001d",
       "\\nMISS FORTUNE ES LA COMEDY QU...</td>\n",
       "    </tr>\n",
       "    <tr>\n",
       "      <th>324831</th>\n",
       "      <td>1504077934646157323</td>\n",
       "      <td>@hammyinmiami I\u0019m still looking for someone to...</td>\n",
       "    </tr>\n",
       "    <tr>\n",
       "      <th>324832</th>\n",
       "      <td>1507454234249158657</td>\n",
       "      <td>After spending more than 30 mins on hold waiti...</td>\n",
       "    </tr>\n",
       "    <tr>\n",
       "      <th>324833</th>\n",
       "      <td>1508205418438397961</td>\n",
       "      <td>@WASenDemocrats @GovInslee Since roughly 80% o...</td>\n",
       "    </tr>\n",
       "  </tbody>\n",
       "</table>\n",
       "<p>324824 rows × 2 columns</p>\n",
       "</div>"
      ],
      "text/plain": [
       "                         id                                               text\n",
       "0       1413639045268217856               @KegsnEggs Wheres league of legends?\n",
       "1       1414479504945270784  Watched the #LCS games with @CaptainFlowers to...\n",
       "2       1412812522873233413  Wait why the new league of legends character s...\n",
       "3       1414155902718988289  Starcraft I and II (2 games?)\\nWarcraft III\\nC...\n",
       "4       1412275542280257536  Just called a sweaty neckbeard in league of le...\n",
       "...                     ...                                                ...\n",
       "324829  1500316004370558979  Miss Fortune Highlights\\n#LoL #wildrift #missf...\n",
       "324830  1503948740775882753  \n",
       "eres muy joven\n",
       "\\nMISS FORTUNE ES LA COMEDY QU...\n",
       "324831  1504077934646157323  @hammyinmiami I\u0019m still looking for someone to...\n",
       "324832  1507454234249158657  After spending more than 30 mins on hold waiti...\n",
       "324833  1508205418438397961  @WASenDemocrats @GovInslee Since roughly 80% o...\n",
       "\n",
       "[324824 rows x 2 columns]"
      ]
     },
     "execution_count": 45,
     "metadata": {},
     "output_type": "execute_result"
    }
   ],
   "source": [
    "word2Vec = pd.read_csv('data/word2Vec.csv', index_col=[0])\n",
    "word2Vec"
   ]
  },
  {
   "cell_type": "code",
   "execution_count": 46,
   "metadata": {},
   "outputs": [],
   "source": [
    "preprocessed_comments = word2Vec.text.apply(gensim.utils.simple_preprocess)"
   ]
  },
  {
   "cell_type": "code",
   "execution_count": 47,
   "metadata": {},
   "outputs": [
    {
     "data": {
      "text/plain": [
       "0             [kegsneggs, wheres, league, of, legends]\n",
       "1    [watched, the, lcs, games, with, captainflower...\n",
       "2    [wait, why, the, new, league, of, legends, cha...\n",
       "3    [starcraft, and, ii, games, warcraft, iii, cs,...\n",
       "4    [just, called, sweaty, neckbeard, in, league, ...\n",
       "Name: text, dtype: object"
      ]
     },
     "execution_count": 47,
     "metadata": {},
     "output_type": "execute_result"
    }
   ],
   "source": [
    "preprocessed_comments[:5]"
   ]
  },
  {
   "cell_type": "markdown",
   "metadata": {},
   "source": [
    "### Multiple Model Building"
   ]
  },
  {
   "cell_type": "code",
   "execution_count": 48,
   "metadata": {},
   "outputs": [],
   "source": [
    "windows = [i for i in range(5,11)] # 5,6,7,8,9,10"
   ]
  },
  {
   "cell_type": "code",
   "execution_count": 49,
   "metadata": {},
   "outputs": [],
   "source": [
    "min_counts = [i for i in range(2,5)] # 2,3,4"
   ]
  },
  {
   "cell_type": "code",
   "execution_count": 50,
   "metadata": {},
   "outputs": [],
   "source": [
    "epochs = [i for i in range(5,16,5)] # 5,10,15"
   ]
  },
  {
   "cell_type": "code",
   "execution_count": 56,
   "metadata": {},
   "outputs": [],
   "source": [
    "def model_w_m_e(win, min_cnt, ep, text):\n",
    "    model = gensim.models.Word2Vec(\n",
    "        window=win,\n",
    "        min_count=min_cnt,\n",
    "        workers=os.cpu_count()\n",
    "    )\n",
    "    \n",
    "    model.build_vocab(text)\n",
    "    \n",
    "    model.train(text, total_examples=model.corpus_count, epochs=ep)\n",
    "    \n",
    "    model.save(f\"./word2vec_{win}-window_{min_cnt}-min_{ep}-epochs.model\")\n",
    "    \n",
    "    return model"
   ]
  },
  {
   "cell_type": "code",
   "execution_count": 57,
   "metadata": {},
   "outputs": [],
   "source": [
    "model_matrix = [\n",
    "    [\n",
    "        [[],[],[]],\n",
    "        [[],[],[]],\n",
    "        [[],[],[]]\n",
    "    ],\n",
    "    [\n",
    "        [[],[],[]],\n",
    "        [[],[],[]],\n",
    "        [[],[],[]]\n",
    "    ],\n",
    "    [\n",
    "        [[],[],[]],\n",
    "        [[],[],[]],\n",
    "        [[],[],[]]\n",
    "    ],\n",
    "    [\n",
    "        [[],[],[]],\n",
    "        [[],[],[]],\n",
    "        [[],[],[]]\n",
    "    ],\n",
    "    [\n",
    "        [[],[],[]],\n",
    "        [[],[],[]],\n",
    "        [[],[],[]]\n",
    "    ],\n",
    "    [\n",
    "        [[],[],[]],\n",
    "        [[],[],[]],\n",
    "        [[],[],[]]\n",
    "    ]\n",
    "]"
   ]
  },
  {
   "cell_type": "code",
   "execution_count": 58,
   "metadata": {},
   "outputs": [],
   "source": [
    "from tqdm import tqdm"
   ]
  },
  {
   "cell_type": "code",
   "execution_count": 59,
   "metadata": {},
   "outputs": [
    {
     "name": "stderr",
     "output_type": "stream",
     "text": [
      "\n",
      "\n",
      "\n",
      "\n",
      "\n",
      "\n",
      "  0%|          | 0/6 [00:00<?, ?it/s]\n",
      "\n",
      "\n",
      "\n",
      "\n",
      "\n",
      "\n",
      "  0%|          | 0/3 [00:00<?, ?it/s]\n",
      "\n",
      "\n",
      "\n",
      "\n",
      "\n",
      "\n",
      "\n",
      "  0%|          | 0/3 [00:00<?, ?it/s]"
     ]
    },
    {
     "name": "stdout",
     "output_type": "stream",
     "text": [
      "window size 5, min count 2, number epochs 5\n"
     ]
    },
    {
     "name": "stderr",
     "output_type": "stream",
     "text": [
      "\n",
      "\n",
      "\n",
      "\n",
      "\n",
      "\n",
      "\n",
      "\n",
      " 33%|███▎      | 1/3 [00:54<01:49, 54.97s/it]"
     ]
    },
    {
     "name": "stdout",
     "output_type": "stream",
     "text": [
      "window size 5, min count 2, number epochs 10\n"
     ]
    },
    {
     "name": "stderr",
     "output_type": "stream",
     "text": [
      "\n",
      "\n",
      "\n",
      "\n",
      "\n",
      "\n",
      "\n",
      "\n",
      " 67%|██████▋   | 2/3 [02:32<01:07, 67.64s/it]"
     ]
    },
    {
     "name": "stdout",
     "output_type": "stream",
     "text": [
      "window size 5, min count 2, number epochs 15\n"
     ]
    },
    {
     "name": "stderr",
     "output_type": "stream",
     "text": [
      "\n",
      "\n",
      "\n",
      "\n",
      "\n",
      "\n",
      "\n",
      "\n",
      "100%|██████████| 3/3 [04:51<00:00, 89.28s/it]\n",
      "\n",
      "\n",
      "\n",
      "\n",
      "\n",
      "\n",
      " 33%|███▎      | 1/3 [04:51<09:43, 291.98s/it]\n",
      "\n",
      "\n",
      "\n",
      "\n",
      "\n",
      "\n",
      "\n",
      "  0%|          | 0/3 [00:00<?, ?it/s]"
     ]
    },
    {
     "name": "stdout",
     "output_type": "stream",
     "text": [
      "window size 5, min count 3, number epochs 5\n"
     ]
    },
    {
     "name": "stderr",
     "output_type": "stream",
     "text": [
      "\n",
      "\n",
      "\n",
      "\n",
      "\n",
      "\n",
      "\n",
      "\n",
      " 33%|███▎      | 1/3 [00:52<01:44, 52.02s/it]"
     ]
    },
    {
     "name": "stdout",
     "output_type": "stream",
     "text": [
      "window size 5, min count 3, number epochs 10\n"
     ]
    },
    {
     "name": "stderr",
     "output_type": "stream",
     "text": [
      "\n",
      "\n",
      "\n",
      "\n",
      "\n",
      "\n",
      "\n",
      "\n",
      " 67%|██████▋   | 2/3 [02:24<01:04, 64.24s/it]"
     ]
    },
    {
     "name": "stdout",
     "output_type": "stream",
     "text": [
      "window size 5, min count 3, number epochs 15\n"
     ]
    },
    {
     "name": "stderr",
     "output_type": "stream",
     "text": [
      "\n",
      "\n",
      "\n",
      "\n",
      "\n",
      "\n",
      "\n",
      "\n",
      "100%|██████████| 3/3 [04:40<00:00, 85.75s/it]\n",
      "\n",
      "\n",
      "\n",
      "\n",
      "\n",
      "\n",
      " 67%|██████▋   | 2/3 [09:32<04:48, 288.60s/it]\n",
      "\n",
      "\n",
      "\n",
      "\n",
      "\n",
      "\n",
      "\n",
      "  0%|          | 0/3 [00:00<?, ?it/s]"
     ]
    },
    {
     "name": "stdout",
     "output_type": "stream",
     "text": [
      "window size 5, min count 4, number epochs 5\n"
     ]
    },
    {
     "name": "stderr",
     "output_type": "stream",
     "text": [
      "\n",
      "\n",
      "\n",
      "\n",
      "\n",
      "\n",
      "\n",
      "\n",
      " 33%|███▎      | 1/3 [00:48<01:37, 48.59s/it]"
     ]
    },
    {
     "name": "stdout",
     "output_type": "stream",
     "text": [
      "window size 5, min count 4, number epochs 10\n"
     ]
    },
    {
     "name": "stderr",
     "output_type": "stream",
     "text": [
      "\n",
      "\n",
      "\n",
      "\n",
      "\n",
      "\n",
      "\n",
      "\n",
      " 67%|██████▋   | 2/3 [02:19<01:01, 61.37s/it]"
     ]
    },
    {
     "name": "stdout",
     "output_type": "stream",
     "text": [
      "window size 5, min count 4, number epochs 15\n"
     ]
    },
    {
     "name": "stderr",
     "output_type": "stream",
     "text": [
      "\n",
      "\n",
      "\n",
      "\n",
      "\n",
      "\n",
      "\n",
      "\n",
      "100%|██████████| 3/3 [04:33<00:00, 82.99s/it]\n",
      "\n",
      "\n",
      "\n",
      "\n",
      "\n",
      "\n",
      "100%|██████████| 3/3 [14:05<00:00, 283.99s/it]\n",
      "\n",
      "\n",
      "\n",
      "\n",
      "\n",
      " 17%|█▋        | 1/6 [14:05<1:10:29, 845.94s/it]\n",
      "\n",
      "\n",
      "\n",
      "\n",
      "\n",
      "\n",
      "  0%|          | 0/3 [00:00<?, ?it/s]\n",
      "\n",
      "\n",
      "\n",
      "\n",
      "\n",
      "\n",
      "\n",
      "  0%|          | 0/3 [00:00<?, ?it/s]"
     ]
    },
    {
     "name": "stdout",
     "output_type": "stream",
     "text": [
      "window size 6, min count 2, number epochs 5\n"
     ]
    },
    {
     "name": "stderr",
     "output_type": "stream",
     "text": [
      "\n",
      "\n",
      "\n",
      "\n",
      "\n",
      "\n",
      "\n",
      "\n",
      " 33%|███▎      | 1/3 [00:54<01:48, 54.13s/it]"
     ]
    },
    {
     "name": "stdout",
     "output_type": "stream",
     "text": [
      "window size 6, min count 2, number epochs 10\n"
     ]
    },
    {
     "name": "stderr",
     "output_type": "stream",
     "text": [
      "\n",
      "\n",
      "\n",
      "\n",
      "\n",
      "\n",
      "\n",
      "\n",
      " 67%|██████▋   | 2/3 [02:31<01:06, 66.97s/it]"
     ]
    },
    {
     "name": "stdout",
     "output_type": "stream",
     "text": [
      "window size 6, min count 2, number epochs 15\n"
     ]
    },
    {
     "name": "stderr",
     "output_type": "stream",
     "text": [
      "\n",
      "\n",
      "\n",
      "\n",
      "\n",
      "\n",
      "\n",
      "\n",
      "100%|██████████| 3/3 [04:50<00:00, 88.60s/it]\n",
      "\n",
      "\n",
      "\n",
      "\n",
      "\n",
      "\n",
      " 33%|███▎      | 1/3 [04:50<09:40, 290.14s/it]\n",
      "\n",
      "\n",
      "\n",
      "\n",
      "\n",
      "\n",
      "\n",
      "  0%|          | 0/3 [00:00<?, ?it/s]"
     ]
    },
    {
     "name": "stdout",
     "output_type": "stream",
     "text": [
      "window size 6, min count 3, number epochs 5\n"
     ]
    },
    {
     "name": "stderr",
     "output_type": "stream",
     "text": [
      "\n",
      "\n",
      "\n",
      "\n",
      "\n",
      "\n",
      "\n",
      "\n",
      " 33%|███▎      | 1/3 [00:50<01:40, 50.09s/it]"
     ]
    },
    {
     "name": "stdout",
     "output_type": "stream",
     "text": [
      "window size 6, min count 3, number epochs 10\n"
     ]
    },
    {
     "name": "stderr",
     "output_type": "stream",
     "text": [
      "\n",
      "\n",
      "\n",
      "\n",
      "\n",
      "\n",
      "\n",
      "\n",
      " 67%|██████▋   | 2/3 [02:23<01:03, 63.23s/it]"
     ]
    },
    {
     "name": "stdout",
     "output_type": "stream",
     "text": [
      "window size 6, min count 3, number epochs 15\n"
     ]
    },
    {
     "name": "stderr",
     "output_type": "stream",
     "text": [
      "\n",
      "\n",
      "\n",
      "\n",
      "\n",
      "\n",
      "\n",
      "\n",
      "100%|██████████| 3/3 [04:39<00:00, 84.81s/it]\n",
      "\n",
      "\n",
      "\n",
      "\n",
      "\n",
      "\n",
      " 67%|██████▋   | 2/3 [09:29<04:46, 286.85s/it]\n",
      "\n",
      "\n",
      "\n",
      "\n",
      "\n",
      "\n",
      "\n",
      "  0%|          | 0/3 [00:00<?, ?it/s]"
     ]
    },
    {
     "name": "stdout",
     "output_type": "stream",
     "text": [
      "window size 6, min count 4, number epochs 5\n"
     ]
    },
    {
     "name": "stderr",
     "output_type": "stream",
     "text": [
      "\n",
      "\n",
      "\n",
      "\n",
      "\n",
      "\n",
      "\n",
      "\n",
      " 33%|███▎      | 1/3 [00:48<01:36, 48.47s/it]"
     ]
    },
    {
     "name": "stdout",
     "output_type": "stream",
     "text": [
      "window size 6, min count 4, number epochs 10\n"
     ]
    },
    {
     "name": "stderr",
     "output_type": "stream",
     "text": [
      "\n",
      "\n",
      "\n",
      "\n",
      "\n",
      "\n",
      "\n",
      "\n",
      " 67%|██████▋   | 2/3 [02:18<01:01, 61.08s/it]"
     ]
    },
    {
     "name": "stdout",
     "output_type": "stream",
     "text": [
      "window size 6, min count 4, number epochs 15\n"
     ]
    },
    {
     "name": "stderr",
     "output_type": "stream",
     "text": [
      "\n",
      "\n",
      "\n",
      "\n",
      "\n",
      "\n",
      "\n",
      "\n",
      "100%|██████████| 3/3 [04:31<00:00, 82.42s/it]\n",
      "\n",
      "\n",
      "\n",
      "\n",
      "\n",
      "\n",
      "100%|██████████| 3/3 [14:00<00:00, 282.15s/it]\n",
      "\n",
      "\n",
      "\n",
      "\n",
      "\n",
      " 33%|███▎      | 2/6 [28:06<56:17, 844.32s/it]  \n",
      "\n",
      "\n",
      "\n",
      "\n",
      "\n",
      "\n",
      "  0%|          | 0/3 [00:00<?, ?it/s]\n",
      "\n",
      "\n",
      "\n",
      "\n",
      "\n",
      "\n",
      "\n",
      "  0%|          | 0/3 [00:00<?, ?it/s]"
     ]
    },
    {
     "name": "stdout",
     "output_type": "stream",
     "text": [
      "window size 7, min count 2, number epochs 5\n"
     ]
    },
    {
     "name": "stderr",
     "output_type": "stream",
     "text": [
      "\n",
      "\n",
      "\n",
      "\n",
      "\n",
      "\n",
      "\n",
      "\n",
      " 33%|███▎      | 1/3 [00:54<01:49, 54.54s/it]"
     ]
    },
    {
     "name": "stdout",
     "output_type": "stream",
     "text": [
      "window size 7, min count 2, number epochs 10\n"
     ]
    },
    {
     "name": "stderr",
     "output_type": "stream",
     "text": [
      "\n",
      "\n",
      "\n",
      "\n",
      "\n",
      "\n",
      "\n",
      "\n",
      " 67%|██████▋   | 2/3 [02:32<01:07, 67.64s/it]"
     ]
    },
    {
     "name": "stdout",
     "output_type": "stream",
     "text": [
      "window size 7, min count 2, number epochs 15\n"
     ]
    },
    {
     "name": "stderr",
     "output_type": "stream",
     "text": [
      "\n",
      "\n",
      "\n",
      "\n",
      "\n",
      "\n",
      "\n",
      "\n",
      "100%|██████████| 3/3 [04:53<00:00, 89.44s/it]\n",
      "\n",
      "\n",
      "\n",
      "\n",
      "\n",
      "\n",
      " 33%|███▎      | 1/3 [04:53<09:46, 293.05s/it]\n",
      "\n",
      "\n",
      "\n",
      "\n",
      "\n",
      "\n",
      "\n",
      "  0%|          | 0/3 [00:00<?, ?it/s]"
     ]
    },
    {
     "name": "stdout",
     "output_type": "stream",
     "text": [
      "window size 7, min count 3, number epochs 5\n"
     ]
    },
    {
     "name": "stderr",
     "output_type": "stream",
     "text": [
      "\n",
      "\n",
      "\n",
      "\n",
      "\n",
      "\n",
      "\n",
      "\n",
      " 33%|███▎      | 1/3 [00:51<01:42, 51.37s/it]"
     ]
    },
    {
     "name": "stdout",
     "output_type": "stream",
     "text": [
      "window size 7, min count 3, number epochs 10\n"
     ]
    },
    {
     "name": "stderr",
     "output_type": "stream",
     "text": [
      "\n",
      "\n",
      "\n",
      "\n",
      "\n",
      "\n",
      "\n",
      "\n",
      " 67%|██████▋   | 2/3 [02:24<01:03, 63.82s/it]"
     ]
    },
    {
     "name": "stdout",
     "output_type": "stream",
     "text": [
      "window size 7, min count 3, number epochs 15\n"
     ]
    },
    {
     "name": "stderr",
     "output_type": "stream",
     "text": [
      "\n",
      "\n",
      "\n",
      "\n",
      "\n",
      "\n",
      "\n",
      "\n",
      "100%|██████████| 3/3 [04:39<00:00, 85.22s/it]\n",
      "\n",
      "\n",
      "\n",
      "\n",
      "\n",
      "\n",
      " 67%|██████▋   | 2/3 [09:32<04:48, 288.96s/it]\n",
      "\n",
      "\n",
      "\n",
      "\n",
      "\n",
      "\n",
      "\n",
      "  0%|          | 0/3 [00:00<?, ?it/s]"
     ]
    },
    {
     "name": "stdout",
     "output_type": "stream",
     "text": [
      "window size 7, min count 4, number epochs 5\n"
     ]
    },
    {
     "name": "stderr",
     "output_type": "stream",
     "text": [
      "\n",
      "\n",
      "\n",
      "\n",
      "\n",
      "\n",
      "\n",
      "\n",
      " 33%|███▎      | 1/3 [00:48<01:37, 48.89s/it]"
     ]
    },
    {
     "name": "stdout",
     "output_type": "stream",
     "text": [
      "window size 7, min count 4, number epochs 10\n"
     ]
    },
    {
     "name": "stderr",
     "output_type": "stream",
     "text": [
      "\n",
      "\n",
      "\n",
      "\n",
      "\n",
      "\n",
      "\n",
      "\n",
      " 67%|██████▋   | 2/3 [02:18<01:01, 61.21s/it]"
     ]
    },
    {
     "name": "stdout",
     "output_type": "stream",
     "text": [
      "window size 7, min count 4, number epochs 15\n"
     ]
    },
    {
     "name": "stderr",
     "output_type": "stream",
     "text": [
      "\n",
      "\n",
      "\n",
      "\n",
      "\n",
      "\n",
      "\n",
      "\n",
      "100%|██████████| 3/3 [04:31<00:00, 82.51s/it]\n",
      "\n",
      "\n",
      "\n",
      "\n",
      "\n",
      "\n",
      "100%|██████████| 3/3 [14:03<00:00, 283.59s/it]\n",
      "\n",
      "\n",
      "\n",
      "\n",
      "\n",
      " 50%|█████     | 3/6 [42:10<42:12, 844.09s/it]\n",
      "\n",
      "\n",
      "\n",
      "\n",
      "\n",
      "\n",
      "  0%|          | 0/3 [00:00<?, ?it/s]\n",
      "\n",
      "\n",
      "\n",
      "\n",
      "\n",
      "\n",
      "\n",
      "  0%|          | 0/3 [00:00<?, ?it/s]"
     ]
    },
    {
     "name": "stdout",
     "output_type": "stream",
     "text": [
      "window size 8, min count 2, number epochs 5\n"
     ]
    },
    {
     "name": "stderr",
     "output_type": "stream",
     "text": [
      "\n",
      "\n",
      "\n",
      "\n",
      "\n",
      "\n",
      "\n",
      "\n",
      " 33%|███▎      | 1/3 [00:55<01:51, 55.92s/it]"
     ]
    },
    {
     "name": "stdout",
     "output_type": "stream",
     "text": [
      "window size 8, min count 2, number epochs 10\n"
     ]
    },
    {
     "name": "stderr",
     "output_type": "stream",
     "text": [
      "\n",
      "\n",
      "\n",
      "\n",
      "\n",
      "\n",
      "\n",
      "\n",
      " 67%|██████▋   | 2/3 [02:33<01:08, 68.52s/it]"
     ]
    },
    {
     "name": "stdout",
     "output_type": "stream",
     "text": [
      "window size 8, min count 2, number epochs 15\n"
     ]
    },
    {
     "name": "stderr",
     "output_type": "stream",
     "text": [
      "\n",
      "\n",
      "\n",
      "\n",
      "\n",
      "\n",
      "\n",
      "\n",
      "100%|██████████| 3/3 [04:54<00:00, 90.21s/it]\n",
      "\n",
      "\n",
      "\n",
      "\n",
      "\n",
      "\n",
      " 33%|███▎      | 1/3 [04:54<09:49, 294.67s/it]\n",
      "\n",
      "\n",
      "\n",
      "\n",
      "\n",
      "\n",
      "\n",
      "  0%|          | 0/3 [00:00<?, ?it/s]"
     ]
    },
    {
     "name": "stdout",
     "output_type": "stream",
     "text": [
      "window size 8, min count 3, number epochs 5\n"
     ]
    },
    {
     "name": "stderr",
     "output_type": "stream",
     "text": [
      "\n",
      "\n",
      "\n",
      "\n",
      "\n",
      "\n",
      "\n",
      "\n",
      " 33%|███▎      | 1/3 [00:51<01:43, 51.76s/it]"
     ]
    },
    {
     "name": "stdout",
     "output_type": "stream",
     "text": [
      "window size 8, min count 3, number epochs 10\n"
     ]
    },
    {
     "name": "stderr",
     "output_type": "stream",
     "text": [
      "\n",
      "\n",
      "\n",
      "\n",
      "\n",
      "\n",
      "\n",
      "\n",
      " 67%|██████▋   | 2/3 [02:25<01:04, 64.36s/it]"
     ]
    },
    {
     "name": "stdout",
     "output_type": "stream",
     "text": [
      "window size 8, min count 3, number epochs 15\n"
     ]
    },
    {
     "name": "stderr",
     "output_type": "stream",
     "text": [
      "\n",
      "\n",
      "\n",
      "\n",
      "\n",
      "\n",
      "\n",
      "\n",
      "100%|██████████| 3/3 [04:40<00:00, 85.44s/it]\n",
      "\n",
      "\n",
      "\n",
      "\n",
      "\n",
      "\n",
      " 67%|██████▋   | 2/3 [09:34<04:50, 290.31s/it]\n",
      "\n",
      "\n",
      "\n",
      "\n",
      "\n",
      "\n",
      "\n",
      "  0%|          | 0/3 [00:00<?, ?it/s]"
     ]
    },
    {
     "name": "stdout",
     "output_type": "stream",
     "text": [
      "window size 8, min count 4, number epochs 5\n"
     ]
    },
    {
     "name": "stderr",
     "output_type": "stream",
     "text": [
      "\n",
      "\n",
      "\n",
      "\n",
      "\n",
      "\n",
      "\n",
      "\n",
      " 33%|███▎      | 1/3 [00:49<01:38, 49.48s/it]"
     ]
    },
    {
     "name": "stdout",
     "output_type": "stream",
     "text": [
      "window size 8, min count 4, number epochs 10\n"
     ]
    },
    {
     "name": "stderr",
     "output_type": "stream",
     "text": [
      "\n",
      "\n",
      "\n",
      "\n",
      "\n",
      "\n",
      "\n",
      "\n",
      " 67%|██████▋   | 2/3 [02:20<01:01, 61.84s/it]"
     ]
    },
    {
     "name": "stdout",
     "output_type": "stream",
     "text": [
      "window size 8, min count 4, number epochs 15\n"
     ]
    },
    {
     "name": "stderr",
     "output_type": "stream",
     "text": [
      "\n",
      "\n",
      "\n",
      "\n",
      "\n",
      "\n",
      "\n",
      "\n",
      "100%|██████████| 3/3 [04:32<00:00, 83.07s/it]\n",
      "\n",
      "\n",
      "\n",
      "\n",
      "\n",
      "\n",
      "100%|██████████| 3/3 [14:07<00:00, 285.06s/it]\n",
      "\n",
      "\n",
      "\n",
      "\n",
      "\n",
      " 67%|██████▋   | 4/6 [56:17<28:10, 845.15s/it]\n",
      "\n",
      "\n",
      "\n",
      "\n",
      "\n",
      "\n",
      "  0%|          | 0/3 [00:00<?, ?it/s]\n",
      "\n",
      "\n",
      "\n",
      "\n",
      "\n",
      "\n",
      "\n",
      "  0%|          | 0/3 [00:00<?, ?it/s]"
     ]
    },
    {
     "name": "stdout",
     "output_type": "stream",
     "text": [
      "window size 9, min count 2, number epochs 5\n"
     ]
    },
    {
     "name": "stderr",
     "output_type": "stream",
     "text": [
      "\n",
      "\n",
      "\n",
      "\n",
      "\n",
      "\n",
      "\n",
      "\n",
      " 33%|███▎      | 1/3 [00:55<01:51, 55.80s/it]"
     ]
    },
    {
     "name": "stdout",
     "output_type": "stream",
     "text": [
      "window size 9, min count 2, number epochs 10\n"
     ]
    },
    {
     "name": "stderr",
     "output_type": "stream",
     "text": [
      "\n",
      "\n",
      "\n",
      "\n",
      "\n",
      "\n",
      "\n",
      "\n",
      " 67%|██████▋   | 2/3 [02:35<01:09, 69.11s/it]"
     ]
    },
    {
     "name": "stdout",
     "output_type": "stream",
     "text": [
      "window size 9, min count 2, number epochs 15\n"
     ]
    },
    {
     "name": "stderr",
     "output_type": "stream",
     "text": [
      "\n",
      "\n",
      "\n",
      "\n",
      "\n",
      "\n",
      "\n",
      "\n",
      "100%|██████████| 3/3 [04:58<00:00, 91.06s/it]\n",
      "\n",
      "\n",
      "\n",
      "\n",
      "\n",
      "\n",
      " 33%|███▎      | 1/3 [04:58<09:56, 298.26s/it]\n",
      "\n",
      "\n",
      "\n",
      "\n",
      "\n",
      "\n",
      "\n",
      "  0%|          | 0/3 [00:00<?, ?it/s]"
     ]
    },
    {
     "name": "stdout",
     "output_type": "stream",
     "text": [
      "window size 9, min count 3, number epochs 5\n"
     ]
    },
    {
     "name": "stderr",
     "output_type": "stream",
     "text": [
      "\n",
      "\n",
      "\n",
      "\n",
      "\n",
      "\n",
      "\n",
      "\n",
      " 33%|███▎      | 1/3 [00:51<01:42, 51.41s/it]"
     ]
    },
    {
     "name": "stdout",
     "output_type": "stream",
     "text": [
      "window size 9, min count 3, number epochs 10\n"
     ]
    },
    {
     "name": "stderr",
     "output_type": "stream",
     "text": [
      "\n",
      "\n",
      "\n",
      "\n",
      "\n",
      "\n",
      "\n",
      "\n",
      " 67%|██████▋   | 2/3 [02:25<01:04, 64.30s/it]"
     ]
    },
    {
     "name": "stdout",
     "output_type": "stream",
     "text": [
      "window size 9, min count 3, number epochs 15\n"
     ]
    },
    {
     "name": "stderr",
     "output_type": "stream",
     "text": [
      "\n",
      "\n",
      "\n",
      "\n",
      "\n",
      "\n",
      "\n",
      "\n",
      "100%|██████████| 3/3 [04:42<00:00, 86.16s/it]\n",
      "\n",
      "\n",
      "\n",
      "\n",
      "\n",
      "\n",
      " 67%|██████▋   | 2/3 [09:41<04:53, 293.67s/it]\n",
      "\n",
      "\n",
      "\n",
      "\n",
      "\n",
      "\n",
      "\n",
      "  0%|          | 0/3 [00:00<?, ?it/s]"
     ]
    },
    {
     "name": "stdout",
     "output_type": "stream",
     "text": [
      "window size 9, min count 4, number epochs 5\n"
     ]
    },
    {
     "name": "stderr",
     "output_type": "stream",
     "text": [
      "\n",
      "\n",
      "\n",
      "\n",
      "\n",
      "\n",
      "\n",
      "\n",
      " 33%|███▎      | 1/3 [00:49<01:38, 49.26s/it]"
     ]
    },
    {
     "name": "stdout",
     "output_type": "stream",
     "text": [
      "window size 9, min count 4, number epochs 10\n"
     ]
    },
    {
     "name": "stderr",
     "output_type": "stream",
     "text": [
      "\n",
      "\n",
      "\n",
      "\n",
      "\n",
      "\n",
      "\n",
      "\n",
      " 67%|██████▋   | 2/3 [02:19<01:01, 61.59s/it]"
     ]
    },
    {
     "name": "stdout",
     "output_type": "stream",
     "text": [
      "window size 9, min count 4, number epochs 15\n"
     ]
    },
    {
     "name": "stderr",
     "output_type": "stream",
     "text": [
      "\n",
      "\n",
      "\n",
      "\n",
      "\n",
      "\n",
      "\n",
      "\n",
      "100%|██████████| 3/3 [04:33<00:00, 83.26s/it]\n",
      "\n",
      "\n",
      "\n",
      "\n",
      "\n",
      "\n",
      "100%|██████████| 3/3 [14:14<00:00, 287.60s/it]\n",
      "\n",
      "\n",
      "\n",
      "\n",
      "\n",
      " 83%|████████▎ | 5/6 [1:10:32<14:08, 848.01s/it]\n",
      "\n",
      "\n",
      "\n",
      "\n",
      "\n",
      "\n",
      "  0%|          | 0/3 [00:00<?, ?it/s]\n",
      "\n",
      "\n",
      "\n",
      "\n",
      "\n",
      "\n",
      "\n",
      "  0%|          | 0/3 [00:00<?, ?it/s]"
     ]
    },
    {
     "name": "stdout",
     "output_type": "stream",
     "text": [
      "window size 10, min count 2, number epochs 5\n"
     ]
    },
    {
     "name": "stderr",
     "output_type": "stream",
     "text": [
      "\n",
      "\n",
      "\n",
      "\n",
      "\n",
      "\n",
      "\n",
      "\n",
      " 33%|███▎      | 1/3 [00:58<01:57, 58.80s/it]"
     ]
    },
    {
     "name": "stdout",
     "output_type": "stream",
     "text": [
      "window size 10, min count 2, number epochs 10\n"
     ]
    },
    {
     "name": "stderr",
     "output_type": "stream",
     "text": [
      "\n",
      "\n",
      "\n",
      "\n",
      "\n",
      "\n",
      "\n",
      "\n",
      " 67%|██████▋   | 2/3 [02:39<01:11, 71.33s/it]"
     ]
    },
    {
     "name": "stdout",
     "output_type": "stream",
     "text": [
      "window size 10, min count 2, number epochs 15\n"
     ]
    },
    {
     "name": "stderr",
     "output_type": "stream",
     "text": [
      "\n",
      "\n",
      "\n",
      "\n",
      "\n",
      "\n",
      "\n",
      "\n",
      "100%|██████████| 3/3 [05:02<00:00, 92.77s/it]\n",
      "\n",
      "\n",
      "\n",
      "\n",
      "\n",
      "\n",
      " 33%|███▎      | 1/3 [05:02<10:04, 302.16s/it]\n",
      "\n",
      "\n",
      "\n",
      "\n",
      "\n",
      "\n",
      "\n",
      "  0%|          | 0/3 [00:00<?, ?it/s]"
     ]
    },
    {
     "name": "stdout",
     "output_type": "stream",
     "text": [
      "window size 10, min count 3, number epochs 5\n"
     ]
    },
    {
     "name": "stderr",
     "output_type": "stream",
     "text": [
      "\n",
      "\n",
      "\n",
      "\n",
      "\n",
      "\n",
      "\n",
      "\n",
      " 33%|███▎      | 1/3 [00:51<01:43, 51.72s/it]"
     ]
    },
    {
     "name": "stdout",
     "output_type": "stream",
     "text": [
      "window size 10, min count 3, number epochs 10\n"
     ]
    },
    {
     "name": "stderr",
     "output_type": "stream",
     "text": [
      "\n",
      "\n",
      "\n",
      "\n",
      "\n",
      "\n",
      "\n",
      "\n",
      " 67%|██████▋   | 2/3 [02:26<01:04, 64.53s/it]"
     ]
    },
    {
     "name": "stdout",
     "output_type": "stream",
     "text": [
      "window size 10, min count 3, number epochs 15\n"
     ]
    },
    {
     "name": "stderr",
     "output_type": "stream",
     "text": [
      "\n",
      "\n",
      "\n",
      "\n",
      "\n",
      "\n",
      "\n",
      "\n",
      "100%|██████████| 3/3 [04:43<00:00, 86.27s/it]\n",
      "\n",
      "\n",
      "\n",
      "\n",
      "\n",
      "\n",
      " 67%|██████▋   | 2/3 [09:45<04:56, 296.47s/it]\n",
      "\n",
      "\n",
      "\n",
      "\n",
      "\n",
      "\n",
      "\n",
      "  0%|          | 0/3 [00:00<?, ?it/s]"
     ]
    },
    {
     "name": "stdout",
     "output_type": "stream",
     "text": [
      "window size 10, min count 4, number epochs 5\n"
     ]
    },
    {
     "name": "stderr",
     "output_type": "stream",
     "text": [
      "\n",
      "\n",
      "\n",
      "\n",
      "\n",
      "\n",
      "\n",
      "\n",
      " 33%|███▎      | 1/3 [00:49<01:39, 49.88s/it]"
     ]
    },
    {
     "name": "stdout",
     "output_type": "stream",
     "text": [
      "window size 10, min count 4, number epochs 10\n"
     ]
    },
    {
     "name": "stderr",
     "output_type": "stream",
     "text": [
      "\n",
      "\n",
      "\n",
      "\n",
      "\n",
      "\n",
      "\n",
      "\n",
      " 67%|██████▋   | 2/3 [02:21<01:02, 62.46s/it]"
     ]
    },
    {
     "name": "stdout",
     "output_type": "stream",
     "text": [
      "window size 10, min count 4, number epochs 15\n"
     ]
    },
    {
     "name": "stderr",
     "output_type": "stream",
     "text": [
      "\n",
      "\n",
      "\n",
      "\n",
      "\n",
      "\n",
      "\n",
      "\n",
      "100%|██████████| 3/3 [04:34<00:00, 83.49s/it]\n",
      "\n",
      "\n",
      "\n",
      "\n",
      "\n",
      "\n",
      "100%|██████████| 3/3 [14:19<00:00, 289.81s/it]\n",
      "\n",
      "\n",
      "\n",
      "\n",
      "\n",
      "100%|██████████| 6/6 [1:24:51<00:00, 851.49s/it]"
     ]
    }
   ],
   "source": [
    "for w in tqdm(windows):\n",
    "    for m in tqdm(min_counts):\n",
    "        for e in tqdm(epochs):\n",
    "            print(f\"window size {w}, min count {m}, number epochs {e}\")\n",
    "            \n",
    "            model = model_w_m_e(w, m, e, preprocessed_comments)\n",
    "            \n",
    "            model_matrix[w-5][m-2][int((e/5)-1)] = model"
   ]
  },
  {
   "cell_type": "code",
   "execution_count": 60,
   "metadata": {
    "scrolled": true
   },
   "outputs": [
    {
     "name": "stdout",
     "output_type": "stream",
     "text": [
      "5:0,2:0,5:0\n",
      "5:0,2:0,10:1\n",
      "5:0,2:0,15:2\n",
      "5:0,3:1,5:0\n",
      "5:0,3:1,10:1\n",
      "5:0,3:1,15:2\n",
      "5:0,4:2,5:0\n",
      "5:0,4:2,10:1\n",
      "5:0,4:2,15:2\n",
      "6:1,2:0,5:0\n",
      "6:1,2:0,10:1\n",
      "6:1,2:0,15:2\n",
      "6:1,3:1,5:0\n",
      "6:1,3:1,10:1\n",
      "6:1,3:1,15:2\n",
      "6:1,4:2,5:0\n",
      "6:1,4:2,10:1\n",
      "6:1,4:2,15:2\n",
      "7:2,2:0,5:0\n",
      "7:2,2:0,10:1\n",
      "7:2,2:0,15:2\n",
      "7:2,3:1,5:0\n",
      "7:2,3:1,10:1\n",
      "7:2,3:1,15:2\n",
      "7:2,4:2,5:0\n",
      "7:2,4:2,10:1\n",
      "7:2,4:2,15:2\n",
      "8:3,2:0,5:0\n",
      "8:3,2:0,10:1\n",
      "8:3,2:0,15:2\n",
      "8:3,3:1,5:0\n",
      "8:3,3:1,10:1\n",
      "8:3,3:1,15:2\n",
      "8:3,4:2,5:0\n",
      "8:3,4:2,10:1\n",
      "8:3,4:2,15:2\n",
      "9:4,2:0,5:0\n",
      "9:4,2:0,10:1\n",
      "9:4,2:0,15:2\n",
      "9:4,3:1,5:0\n",
      "9:4,3:1,10:1\n",
      "9:4,3:1,15:2\n",
      "9:4,4:2,5:0\n",
      "9:4,4:2,10:1\n",
      "9:4,4:2,15:2\n",
      "10:5,2:0,5:0\n",
      "10:5,2:0,10:1\n",
      "10:5,2:0,15:2\n",
      "10:5,3:1,5:0\n",
      "10:5,3:1,10:1\n",
      "10:5,3:1,15:2\n",
      "10:5,4:2,5:0\n",
      "10:5,4:2,10:1\n",
      "10:5,4:2,15:2\n"
     ]
    }
   ],
   "source": [
    "for w in windows:\n",
    "    for m in min_counts:\n",
    "        for e in epochs:\n",
    "            print(f\"{w}:{w-5},{m}:{m-2},{e}:{int((e/5)-1)}\")"
   ]
  },
  {
   "cell_type": "code",
   "execution_count": 61,
   "metadata": {},
   "outputs": [
    {
     "name": "stdout",
     "output_type": "stream",
     "text": [
      "5 2 5\n",
      "terrible X awesome 0.33838776\n",
      "great X good 0.67695445\n",
      "\n",
      "5 2 10\n",
      "terrible X awesome 0.33508897\n",
      "great X good 0.6786532\n",
      "\n",
      "5 2 15\n",
      "terrible X awesome 0.36154455\n",
      "great X good 0.698362\n",
      "\n",
      "5 3 5\n",
      "terrible X awesome 0.3081164\n",
      "great X good 0.7046909\n",
      "\n",
      "5 3 10\n",
      "terrible X awesome 0.3211426\n",
      "great X good 0.6731967\n",
      "\n",
      "5 3 15\n",
      "terrible X awesome 0.31328592\n",
      "great X good 0.70129734\n",
      "\n",
      "5 4 5\n",
      "terrible X awesome 0.32997298\n",
      "great X good 0.6531981\n",
      "\n",
      "5 4 10\n",
      "terrible X awesome 0.32005185\n",
      "great X good 0.67919797\n",
      "\n",
      "5 4 15\n",
      "terrible X awesome 0.3406552\n",
      "great X good 0.6789452\n",
      "\n",
      "6 2 5\n",
      "terrible X awesome 0.2763228\n",
      "great X good 0.68231887\n",
      "\n",
      "6 2 10\n",
      "terrible X awesome 0.29148063\n",
      "great X good 0.67137724\n",
      "\n",
      "6 2 15\n",
      "terrible X awesome 0.2989469\n",
      "great X good 0.70917416\n",
      "\n",
      "6 3 5\n",
      "terrible X awesome 0.290257\n",
      "great X good 0.65678656\n",
      "\n",
      "6 3 10\n",
      "terrible X awesome 0.29122528\n",
      "great X good 0.67348677\n",
      "\n",
      "6 3 15\n",
      "terrible X awesome 0.32748446\n",
      "great X good 0.69527096\n",
      "\n",
      "6 4 5\n",
      "terrible X awesome 0.23024772\n",
      "great X good 0.64455634\n",
      "\n",
      "6 4 10\n",
      "terrible X awesome 0.33725765\n",
      "great X good 0.65431845\n",
      "\n",
      "6 4 15\n",
      "terrible X awesome 0.29549995\n",
      "great X good 0.6775984\n",
      "\n",
      "7 2 5\n",
      "terrible X awesome 0.23156768\n",
      "great X good 0.6314291\n",
      "\n",
      "7 2 10\n",
      "terrible X awesome 0.24572559\n",
      "great X good 0.65692127\n",
      "\n",
      "7 2 15\n",
      "terrible X awesome 0.28934932\n",
      "great X good 0.6649047\n",
      "\n",
      "7 3 5\n",
      "terrible X awesome 0.25913754\n",
      "great X good 0.65632516\n",
      "\n",
      "7 3 10\n",
      "terrible X awesome 0.2896564\n",
      "great X good 0.6673284\n",
      "\n",
      "7 3 15\n",
      "terrible X awesome 0.24641837\n",
      "great X good 0.66981643\n",
      "\n",
      "7 4 5\n",
      "terrible X awesome 0.17917171\n",
      "great X good 0.6462427\n",
      "\n",
      "7 4 10\n",
      "terrible X awesome 0.26707456\n",
      "great X good 0.6442987\n",
      "\n",
      "7 4 15\n",
      "terrible X awesome 0.29482442\n",
      "great X good 0.64449584\n",
      "\n",
      "8 2 5\n",
      "terrible X awesome 0.22330442\n",
      "great X good 0.63564485\n",
      "\n",
      "8 2 10\n",
      "terrible X awesome 0.25445628\n",
      "great X good 0.6281825\n",
      "\n",
      "8 2 15\n",
      "terrible X awesome 0.28195444\n",
      "great X good 0.6384614\n",
      "\n",
      "8 3 5\n",
      "terrible X awesome 0.26330823\n",
      "great X good 0.61721885\n",
      "\n",
      "8 3 10\n",
      "terrible X awesome 0.23951301\n",
      "great X good 0.6600365\n",
      "\n",
      "8 3 15\n",
      "terrible X awesome 0.25223252\n",
      "great X good 0.6413089\n",
      "\n",
      "8 4 5\n",
      "terrible X awesome 0.21404248\n",
      "great X good 0.6268757\n",
      "\n",
      "8 4 10\n",
      "terrible X awesome 0.27267438\n",
      "great X good 0.6040039\n",
      "\n",
      "8 4 15\n",
      "terrible X awesome 0.30788636\n",
      "great X good 0.64274704\n",
      "\n",
      "9 2 5\n",
      "terrible X awesome 0.24145934\n",
      "great X good 0.5989758\n",
      "\n",
      "9 2 10\n",
      "terrible X awesome 0.21132472\n",
      "great X good 0.68030995\n",
      "\n",
      "9 2 15\n",
      "terrible X awesome 0.29589978\n",
      "great X good 0.6619863\n",
      "\n",
      "9 3 5\n",
      "terrible X awesome 0.23798448\n",
      "great X good 0.5907048\n",
      "\n",
      "9 3 10\n",
      "terrible X awesome 0.23816814\n",
      "great X good 0.6301018\n",
      "\n",
      "9 3 15\n",
      "terrible X awesome 0.2509303\n",
      "great X good 0.62648475\n",
      "\n",
      "9 4 5\n",
      "terrible X awesome 0.2179153\n",
      "great X good 0.5968018\n",
      "\n",
      "9 4 10\n",
      "terrible X awesome 0.24099949\n",
      "great X good 0.61436105\n",
      "\n",
      "9 4 15\n",
      "terrible X awesome 0.26331693\n",
      "great X good 0.6250485\n",
      "\n",
      "10 2 5\n",
      "terrible X awesome 0.27558196\n",
      "great X good 0.6131001\n",
      "\n",
      "10 2 10\n",
      "terrible X awesome 0.26280448\n",
      "great X good 0.6173444\n",
      "\n",
      "10 2 15\n",
      "terrible X awesome 0.2692492\n",
      "great X good 0.64213777\n",
      "\n",
      "10 3 5\n",
      "terrible X awesome 0.19095424\n",
      "great X good 0.5728146\n",
      "\n",
      "10 3 10\n",
      "terrible X awesome 0.20338842\n",
      "great X good 0.6034752\n",
      "\n",
      "10 3 15\n",
      "terrible X awesome 0.2622639\n",
      "great X good 0.645532\n",
      "\n",
      "10 4 5\n",
      "terrible X awesome 0.17495008\n",
      "great X good 0.5689358\n",
      "\n",
      "10 4 10\n",
      "terrible X awesome 0.18897985\n",
      "great X good 0.6081381\n",
      "\n",
      "10 4 15\n",
      "terrible X awesome 0.24294573\n",
      "great X good 0.62380695\n",
      "\n"
     ]
    }
   ],
   "source": [
    "for i in range(6):\n",
    "    for j in range(3):\n",
    "        for k in range(3):\n",
    "            t = model_matrix[i][j][k]\n",
    "            print(t.window, t.min_count, t.epochs)\n",
    "            print(\"terrible X awesome\", t.wv.similarity(w1=\"terrible\", w2=\"awesome\"))\n",
    "            print(\"great X good\", t.wv.similarity(w1=\"great\",w2=\"good\"))\n",
    "            print()\n",
    "                                  "
   ]
  },
  {
   "cell_type": "code",
   "execution_count": 62,
   "metadata": {},
   "outputs": [],
   "source": [
    "t = model_matrix[0][0][0]"
   ]
  },
  {
   "cell_type": "code",
   "execution_count": 63,
   "metadata": {},
   "outputs": [
    {
     "data": {
      "text/plain": [
       "132321"
      ]
     },
     "execution_count": 63,
     "metadata": {},
     "output_type": "execute_result"
    }
   ],
   "source": [
    "X_t = list(t.wv.key_to_index)\n",
    "len(X_t)"
   ]
  },
  {
   "cell_type": "code",
   "execution_count": null,
   "metadata": {},
   "outputs": [],
   "source": []
  }
 ],
 "metadata": {
  "kernelspec": {
   "display_name": "Python 3",
   "language": "python",
   "name": "python3"
  },
  "language_info": {
   "codemirror_mode": {
    "name": "ipython",
    "version": 3
   },
   "file_extension": ".py",
   "mimetype": "text/x-python",
   "name": "python",
   "nbconvert_exporter": "python",
   "pygments_lexer": "ipython3",
   "version": "3.7.3"
  }
 },
 "nbformat": 4,
 "nbformat_minor": 2
}
